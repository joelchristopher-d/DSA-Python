{
 "cells": [
  {
   "cell_type": "markdown",
   "metadata": {},
   "source": [
    "#  Doubly Linked List"
   ]
  },
  {
   "cell_type": "code",
   "execution_count": 31,
   "metadata": {},
   "outputs": [
    {
     "name": "stdout",
     "output_type": "stream",
     "text": [
      "8 6 4 2 0 7 9 \n",
      "6 4 2 0 7 9 \n"
     ]
    }
   ],
   "source": [
    "class node:\n",
    "    def __init__(self,data):\n",
    "        self.data = data\n",
    "        self.prev = None\n",
    "        self.next = None\n",
    "        \n",
    "class doublylinkedlist:\n",
    "    \n",
    "    def __init__(self):\n",
    "        self.head = None\n",
    "        \n",
    "    def push(self,data):\n",
    "        newnode = node(data)\n",
    "        \n",
    "        newnode.next = self.head\n",
    "        if self.head is not None:\n",
    "            self.head.prev = newnode\n",
    "        self.head = newnode\n",
    "        \n",
    "    def insertAfter(self,key,data):\n",
    "        newnode = node(data)\n",
    "        curr = self.head\n",
    "        if curr == None:\n",
    "            newnode.next = curr\n",
    "            self.head = newnode\n",
    "            return\n",
    "        while(curr is not None):\n",
    "            if curr.data == key:\n",
    "                break\n",
    "            prev = curr\n",
    "            curr = curr.next\n",
    "        newnode.next = curr.next\n",
    "        curr.next = newnode\n",
    "        if newnode.next is not None:\n",
    "            newnode.next.prev = newnode\n",
    "            newnode.prev = curr\n",
    "        \n",
    "    def println(self):\n",
    "        last = self.head\n",
    "        while(last):\n",
    "            print(last.data,end=\" \")\n",
    "            last = last.next\n",
    "        print()\n",
    "            \n",
    "    def addLast(self,data):\n",
    "        newnode = node(data)\n",
    "        \n",
    "        if self.head is None:\n",
    "            newnode.next = self.head\n",
    "            self.head = newnode\n",
    "            return\n",
    "        last = self.head\n",
    "        while(last.next):\n",
    "            last = last.next\n",
    "        \n",
    "        last.next = newnode\n",
    "        newnode.prev = last\n",
    "        \n",
    "    def delete(self,key):\n",
    "        curr = self.head\n",
    "        if curr is None:\n",
    "            return\n",
    "        \n",
    "        if curr.data == key:\n",
    "            self.head = curr.next\n",
    "            curr = None\n",
    "            return\n",
    "        \n",
    "#         curr = curr.next\n",
    "        \n",
    "        while(curr):\n",
    "            if curr.data == key:\n",
    "                break\n",
    "            prev = curr\n",
    "            curr = curr.next\n",
    "        prev.next = curr.next\n",
    "        if curr is not None:\n",
    "            curr.prev = prev\n",
    "        curr = None\n",
    "            \n",
    "            \n",
    "if __name__ == \"__main__\":\n",
    "    dll = doublylinkedlist()\n",
    "    \n",
    "    for i in range(0,10,2):\n",
    "        dll.push(i)\n",
    "\n",
    "    dll.insertAfter(0,7)\n",
    "    dll.addLast(9)\n",
    "    dll.println()\n",
    "    dll.delete(8)\n",
    "    dll.println()"
   ]
  },
  {
   "cell_type": "code",
   "execution_count": null,
   "metadata": {},
   "outputs": [],
   "source": []
  }
 ],
 "metadata": {
  "kernelspec": {
   "display_name": "Python 3",
   "language": "python",
   "name": "python3"
  },
  "language_info": {
   "codemirror_mode": {
    "name": "ipython",
    "version": 3
   },
   "file_extension": ".py",
   "mimetype": "text/x-python",
   "name": "python",
   "nbconvert_exporter": "python",
   "pygments_lexer": "ipython3",
   "version": "3.8.5"
  }
 },
 "nbformat": 4,
 "nbformat_minor": 4
}
