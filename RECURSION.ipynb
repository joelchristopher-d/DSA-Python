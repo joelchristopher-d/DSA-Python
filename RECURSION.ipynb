{
 "cells": [
  {
   "cell_type": "markdown",
   "metadata": {},
   "source": [
    "# Trace Tree"
   ]
  },
  {
   "cell_type": "code",
   "execution_count": 10,
   "metadata": {},
   "outputs": [
    {
     "name": "stdout",
     "output_type": "stream",
     "text": [
      "forward: 10\n",
      "forward: 9\n",
      "forward: 8\n",
      "forward: 7\n",
      "forward: 6\n",
      "forward: 5\n",
      "forward: 4\n",
      "forward: 3\n",
      "forward: 2\n",
      "forward: 1\n",
      "Backward: 1\n",
      "Backward: 2\n",
      "Backward: 3\n",
      "Backward: 4\n",
      "Backward: 5\n",
      "Backward: 6\n",
      "Backward: 7\n",
      "Backward: 8\n",
      "Backward: 9\n",
      "Backward: 10\n"
     ]
    }
   ],
   "source": [
    "def TraceTree(n):\n",
    "    if n>0:\n",
    "        print(\"forward:\",n)\n",
    "        TraceTree(n-1)\n",
    "        print(\"Backward:\",n)\n",
    "\n",
    "if __name__ == \"__main__\":\n",
    "    TraceTree(10)"
   ]
  },
  {
   "cell_type": "code",
   "execution_count": 5,
   "metadata": {},
   "outputs": [
    {
     "name": "stdout",
     "output_type": "stream",
     "text": [
      "3\n",
      "2\n",
      "1\n",
      "1\n",
      "2\n",
      "1\n",
      "1\n",
      "3\n",
      "2\n",
      "1\n",
      "1\n",
      "2\n",
      "1\n",
      "1\n"
     ]
    }
   ],
   "source": [
    " def Rec(n):\n",
    "        if n>0:\n",
    "            print(n)\n",
    "            Rec(n-1)\n",
    "            print(n)\n",
    "            Rec(n-1)\n",
    "\n",
    "if __name__ ==\"__main__\":\n",
    "    Rec(3)"
   ]
  },
  {
   "cell_type": "markdown",
   "metadata": {},
   "source": [
    "# Factorial"
   ]
  },
  {
   "cell_type": "code",
   "execution_count": 1,
   "metadata": {},
   "outputs": [
    {
     "data": {
      "text/plain": [
       "720"
      ]
     },
     "execution_count": 1,
     "metadata": {},
     "output_type": "execute_result"
    }
   ],
   "source": [
    "def Factorial(n):\n",
    "    if n>1:\n",
    "        return n*Factorial(n-1)\n",
    "    else:\n",
    "        return 1\n",
    "        \n",
    "Factorial(6)"
   ]
  },
  {
   "cell_type": "markdown",
   "metadata": {},
   "source": [
    "# fibonacci series"
   ]
  },
  {
   "cell_type": "code",
   "execution_count": null,
   "metadata": {},
   "outputs": [],
   "source": [
    "def fib(n):\n",
    "    if n<=1:\n",
    "        return n\n",
    "    else:\n",
    "        return fib(n-1)+fib(n-2)\n",
    "    \n",
    "if __name__ == \"__main__\":\n",
    "    t=0\n",
    "    for i in range(5):\n",
    "        print(fib(i))\n",
    "        t+=fib(i)\n",
    "    print(t)\n",
    "        "
   ]
  },
  {
   "cell_type": "markdown",
   "metadata": {},
   "source": [
    "# Power program"
   ]
  },
  {
   "cell_type": "code",
   "execution_count": 11,
   "metadata": {},
   "outputs": [
    {
     "data": {
      "text/plain": [
       "27"
      ]
     },
     "execution_count": 11,
     "metadata": {},
     "output_type": "execute_result"
    }
   ],
   "source": [
    "def p(a,b):\n",
    "    if b>1:\n",
    "        return p(a,b-1)*a\n",
    "    else:\n",
    "        return a\n",
    "\n",
    "p(3,3)"
   ]
  },
  {
   "cell_type": "markdown",
   "metadata": {},
   "source": [
    "# Combination Program ncr = n! / r! * (n-r)!"
   ]
  },
  {
   "cell_type": "code",
   "execution_count": 4,
   "metadata": {},
   "outputs": [
    {
     "data": {
      "text/plain": [
       "10"
      ]
     },
     "execution_count": 4,
     "metadata": {},
     "output_type": "execute_result"
    }
   ],
   "source": [
    "def Comb(n,r):\n",
    "    return Factorial(n)//(Factorial(r)* Factorial(n-r))\n",
    "Comb(10,6)\n",
    "Comb(5,3)"
   ]
  },
  {
   "cell_type": "markdown",
   "metadata": {},
   "source": [
    "# Tower of Hanoi"
   ]
  },
  {
   "cell_type": "code",
   "execution_count": 5,
   "metadata": {},
   "outputs": [
    {
     "name": "stdout",
     "output_type": "stream",
     "text": [
      "move the disc 1 A to C\n",
      "move the disc2 A to B\n",
      "move the disc 1 C to B\n",
      "move the disc3 A to C\n",
      "move the disc 1 B to A\n",
      "move the disc2 B to C\n",
      "move the disc 1 A to C\n"
     ]
    }
   ],
   "source": [
    "def TOH(disc,from_bar,To_bar,Aux_bar):\n",
    "    \n",
    "    if disc==1:\n",
    "        print(f\"move the disc {disc} {from_bar} to {To_bar}\")\n",
    "        return\n",
    "        \n",
    "    TOH(disc-1,from_bar,Aux_bar,To_bar)\n",
    "    print(f\"move the disc{disc} {from_bar} to {To_bar}\")\n",
    "    TOH(disc-1,Aux_bar,To_bar,from_bar)\n",
    "    \n",
    "TOH(3,\"A\",\"C\",\"B\")\n"
   ]
  },
  {
   "cell_type": "code",
   "execution_count": 16,
   "metadata": {},
   "outputs": [
    {
     "name": "stdout",
     "output_type": "stream",
     "text": [
      "joel\n"
     ]
    }
   ],
   "source": [
    "s=\"joel\"\n",
    "print(s[0:4:])"
   ]
  },
  {
   "cell_type": "markdown",
   "metadata": {},
   "source": [
    "# Reverse string using Recursion"
   ]
  },
  {
   "cell_type": "code",
   "execution_count": 32,
   "metadata": {},
   "outputs": [
    {
     "name": "stdout",
     "output_type": "stream",
     "text": [
      "enter stringchris\n",
      "sirhc"
     ]
    }
   ],
   "source": [
    "def Rev(s,t=-1):\n",
    "    if t == len(s)-1:\n",
    "        return\n",
    "    t+=1\n",
    "    Rev(s,t)\n",
    "    print(s[t],end=\"\")\n",
    "\n",
    "string = input(\"enter string\")\n",
    "Rev(string)\n"
   ]
  },
  {
   "cell_type": "code",
   "execution_count": null,
   "metadata": {},
   "outputs": [],
   "source": []
  }
 ],
 "metadata": {
  "kernelspec": {
   "display_name": "Python 3",
   "language": "python",
   "name": "python3"
  },
  "language_info": {
   "codemirror_mode": {
    "name": "ipython",
    "version": 3
   },
   "file_extension": ".py",
   "mimetype": "text/x-python",
   "name": "python",
   "nbconvert_exporter": "python",
   "pygments_lexer": "ipython3",
   "version": "3.8.5"
  }
 },
 "nbformat": 4,
 "nbformat_minor": 4
}
