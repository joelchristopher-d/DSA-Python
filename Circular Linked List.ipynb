{
 "cells": [
  {
   "cell_type": "markdown",
   "metadata": {},
   "source": [
    "# Circular Linked List"
   ]
  },
  {
   "cell_type": "code",
   "execution_count": 24,
   "metadata": {},
   "outputs": [
    {
     "name": "stdout",
     "output_type": "stream",
     "text": [
      "2 3 7 9 \n",
      "count: 4\n"
     ]
    }
   ],
   "source": [
    "class Node:\n",
    "    def __init__(self,data):\n",
    "        self.data = data\n",
    "        self.next = None\n",
    "\n",
    "class CircularLinkedList:\n",
    "    def __init__(self):\n",
    "        self.head = None\n",
    "    \n",
    "    def Push(self,data):\n",
    "        newnode = Node(data)\n",
    "        temp = self.head\n",
    "        \n",
    "        newnode.next = self.head\n",
    "        if self.head is not None:\n",
    "            while(temp.next!=self.head):\n",
    "                temp = temp.next\n",
    "            temp.next = newnode\n",
    "        else:\n",
    "            newnode.next = newnode\n",
    "        self.head = newnode\n",
    "        \n",
    "    def PrintList(self):\n",
    "        last = self.head\n",
    "        \n",
    "        while(True):\n",
    "            print(last.data,end = \" \")\n",
    "            last = last.next\n",
    "            if(last == self.head):\n",
    "                break\n",
    "                \n",
    "                \n",
    "    def delete(self,key):\n",
    "        curr = self.head\n",
    "        while curr:\n",
    "            if curr.data == key and curr == self.head:\n",
    "                if curr.next == self.head:\n",
    "                    curr.next = None\n",
    "                    self.head = None\n",
    "                    return\n",
    "                else:\n",
    "                    while curr.next!=self.head:\n",
    "                        curr=curr.next\n",
    "                    curr.next = self.head.next\n",
    "                    self.head = self.head.next\n",
    "#                     curr = None\n",
    "            elif curr.data == key:\n",
    "                prev.next = curr.next\n",
    "                curr = None\n",
    "                return\n",
    "            else:\n",
    "                if curr.next == self.head:\n",
    "                    return\n",
    "            prev = curr\n",
    "            curr = curr.next\n",
    "            \n",
    "    def getcount(self,node):\n",
    "        if node.next!=self.head:\n",
    "            return 1 + self.getcount(node.next)\n",
    "        if node.next == self.head:\n",
    "            return 1\n",
    "    def count(self):\n",
    "        print(\"\\ncount:\",self.getcount(self.head))\n",
    "        \n",
    "cll = CircularLinkedList()\n",
    "cll.Push(9)\n",
    "cll.Push(7)\n",
    "cll.Push(8)\n",
    "cll.Push(3)\n",
    "cll.Push(2)\n",
    "cll.Push(1)\n",
    "cll.delete(8)\n",
    "cll.delete(1)\n",
    "cll.PrintList()\n",
    "cll.count()\n",
    "            "
   ]
  },
  {
   "cell_type": "code",
   "execution_count": null,
   "metadata": {},
   "outputs": [],
   "source": []
  }
 ],
 "metadata": {
  "kernelspec": {
   "display_name": "Python 3",
   "language": "python",
   "name": "python3"
  },
  "language_info": {
   "codemirror_mode": {
    "name": "ipython",
    "version": 3
   },
   "file_extension": ".py",
   "mimetype": "text/x-python",
   "name": "python",
   "nbconvert_exporter": "python",
   "pygments_lexer": "ipython3",
   "version": "3.8.5"
  }
 },
 "nbformat": 4,
 "nbformat_minor": 4
}
